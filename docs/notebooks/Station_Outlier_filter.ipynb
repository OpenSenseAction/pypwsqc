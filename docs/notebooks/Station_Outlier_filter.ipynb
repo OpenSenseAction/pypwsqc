{
 "cells": [
  {
   "cell_type": "markdown",
   "id": "16473b52-64fd-425b-bab4-356708192bab",
   "metadata": {
    "editable": true,
    "slideshow": {
     "slide_type": ""
    },
    "tags": []
   },
   "source": [
    "# Station Outlier Filter\n",
    "## QC protocol for Private Weather Stations"
   ]
  },
  {
   "cell_type": "markdown",
   "id": "957fd8e7-df3f-47d8-b57c-e60e26513338",
   "metadata": {},
   "source": [
    "This notebook presents how to use the 'Station Outlier filter' in the Python package `pypwsqc`, a quality assurance protocol developed for automated private weather stations (PWS). \n",
    "\n",
    "The package is based on the original R code available at https://github.com/LottedeVos/PWSQC/.\n",
    "\n",
    "[Publication: de Vos, L. W., Leijnse, H., Overeem, A., & Uijlenhoet, R. (2019). Quality control for crowdsourced personal weather stations to enable operational rainfall monitoring. Geophysical Research Letters, 46(15), 8820-8829](https://agupubs.onlinelibrary.wiley.com/doi/full/10.1029/2019GL083731)\n",
    "\n",
    "`pypwsqc` depends on the `poligrain`, `xarray`, `pandas` and `numpy` packages. Make sure to install and import the required packages first."
   ]
  },
  {
   "cell_type": "code",
   "execution_count": 1,
   "id": "78857b63-6c25-4391-be95-119a6e906aeb",
   "metadata": {},
   "outputs": [],
   "source": [
    "import poligrain as plg\n",
    "import xarray as xr\n",
    "\n",
    "import pypwsqc"
   ]
  },
  {
   "cell_type": "markdown",
   "id": "d852ea47-40ab-4956-ac7c-f9aaa1dee996",
   "metadata": {},
   "source": [
    "## Download example data\n",
    "\n",
    "In this example, we use an open PWS dataset from Amsterdam, called the \"AMS PWS\" dataset. By running the cell below, an example NetCDF-file will be downloaded to your current repository (if your machine is connected to the internet)."
   ]
  },
  {
   "cell_type": "code",
   "execution_count": 2,
   "id": "25b78fd5-c92b-4854-9a56-cefe8450f734",
   "metadata": {},
   "outputs": [
    {
     "name": "stdout",
     "output_type": "stream",
     "text": [
      "  % Total    % Received % Xferd  Average Speed   Time    Time     Time  Current\n",
      "                                 Dload  Upload   Total   Spent    Left  Speed\n",
      "  0     0    0     0    0     0      0      0 --:--:-- --:--:-- --:--:--     0\n",
      "100 5687k  100 5687k    0     0  4506k      0  0:00:01 --:--:--  0:00:01 4506k 5045k      0  0:00:01  0:00:01 --:--:-- 5967k\n"
     ]
    }
   ],
   "source": [
    "!curl -OL https://github.com/OpenSenseAction/OS_data_format_conventions/raw/main/notebooks/data/OpenSense_PWS_example_format_data.nc"
   ]
  },
  {
   "cell_type": "markdown",
   "id": "e420966c-eba1-4a40-aa4b-e1f10e7bbe26",
   "metadata": {},
   "source": [
    "## Data preparations"
   ]
  },
  {
   "cell_type": "markdown",
   "id": "fa7460be-a65e-4549-831d-f11fa418a21c",
   "metadata": {},
   "source": [
    "This package handles rainfall data as `xarray`  Datasets. The data set must have `time` and `id` dimensions, `latitude` and `longitude` as coordinates, and `rainfall` as data variable.\n",
    "\n",
    "An example of how to convert .csv data to a `xarray` dataset is found [here](https://github.com/OpenSenseAction/OS_data_format_conventions/blob/main/notebooks/PWS_example_dataset.ipynb).\n",
    "\n",
    "We now load the data set under the name  `ds_pws`."
   ]
  },
  {
   "cell_type": "code",
   "execution_count": 3,
   "id": "9a8f4054-4282-42a0-bfff-c12a55241672",
   "metadata": {},
   "outputs": [],
   "source": [
    "ds_pws = xr.open_dataset(\"OpenSense_PWS_example_format_data.nc\")"
   ]
  },
  {
   "cell_type": "markdown",
   "id": "f0263e04-1835-41b8-a3ae-e6fbb824d0ea",
   "metadata": {},
   "source": [
    "We then slice the time series to 5 weeks of data to shorten the computation period of the example."
   ]
  },
  {
   "cell_type": "code",
   "execution_count": 4,
   "id": "95de192a-5012-4491-8b7a-c34a823cd548",
   "metadata": {},
   "outputs": [
    {
     "data": {
      "text/html": [
       "<div><svg style=\"position: absolute; width: 0; height: 0; overflow: hidden\">\n",
       "<defs>\n",
       "<symbol id=\"icon-database\" viewBox=\"0 0 32 32\">\n",
       "<path d=\"M16 0c-8.837 0-16 2.239-16 5v4c0 2.761 7.163 5 16 5s16-2.239 16-5v-4c0-2.761-7.163-5-16-5z\"></path>\n",
       "<path d=\"M16 17c-8.837 0-16-2.239-16-5v6c0 2.761 7.163 5 16 5s16-2.239 16-5v-6c0 2.761-7.163 5-16 5z\"></path>\n",
       "<path d=\"M16 26c-8.837 0-16-2.239-16-5v6c0 2.761 7.163 5 16 5s16-2.239 16-5v-6c0 2.761-7.163 5-16 5z\"></path>\n",
       "</symbol>\n",
       "<symbol id=\"icon-file-text2\" viewBox=\"0 0 32 32\">\n",
       "<path d=\"M28.681 7.159c-0.694-0.947-1.662-2.053-2.724-3.116s-2.169-2.030-3.116-2.724c-1.612-1.182-2.393-1.319-2.841-1.319h-15.5c-1.378 0-2.5 1.121-2.5 2.5v27c0 1.378 1.122 2.5 2.5 2.5h23c1.378 0 2.5-1.122 2.5-2.5v-19.5c0-0.448-0.137-1.23-1.319-2.841zM24.543 5.457c0.959 0.959 1.712 1.825 2.268 2.543h-4.811v-4.811c0.718 0.556 1.584 1.309 2.543 2.268zM28 29.5c0 0.271-0.229 0.5-0.5 0.5h-23c-0.271 0-0.5-0.229-0.5-0.5v-27c0-0.271 0.229-0.5 0.5-0.5 0 0 15.499-0 15.5 0v7c0 0.552 0.448 1 1 1h7v19.5z\"></path>\n",
       "<path d=\"M23 26h-14c-0.552 0-1-0.448-1-1s0.448-1 1-1h14c0.552 0 1 0.448 1 1s-0.448 1-1 1z\"></path>\n",
       "<path d=\"M23 22h-14c-0.552 0-1-0.448-1-1s0.448-1 1-1h14c0.552 0 1 0.448 1 1s-0.448 1-1 1z\"></path>\n",
       "<path d=\"M23 18h-14c-0.552 0-1-0.448-1-1s0.448-1 1-1h14c0.552 0 1 0.448 1 1s-0.448 1-1 1z\"></path>\n",
       "</symbol>\n",
       "</defs>\n",
       "</svg>\n",
       "<style>/* CSS stylesheet for displaying xarray objects in jupyterlab.\n",
       " *\n",
       " */\n",
       "\n",
       ":root {\n",
       "  --xr-font-color0: var(--jp-content-font-color0, rgba(0, 0, 0, 1));\n",
       "  --xr-font-color2: var(--jp-content-font-color2, rgba(0, 0, 0, 0.54));\n",
       "  --xr-font-color3: var(--jp-content-font-color3, rgba(0, 0, 0, 0.38));\n",
       "  --xr-border-color: var(--jp-border-color2, #e0e0e0);\n",
       "  --xr-disabled-color: var(--jp-layout-color3, #bdbdbd);\n",
       "  --xr-background-color: var(--jp-layout-color0, white);\n",
       "  --xr-background-color-row-even: var(--jp-layout-color1, white);\n",
       "  --xr-background-color-row-odd: var(--jp-layout-color2, #eeeeee);\n",
       "}\n",
       "\n",
       "html[theme=dark],\n",
       "body[data-theme=dark],\n",
       "body.vscode-dark {\n",
       "  --xr-font-color0: rgba(255, 255, 255, 1);\n",
       "  --xr-font-color2: rgba(255, 255, 255, 0.54);\n",
       "  --xr-font-color3: rgba(255, 255, 255, 0.38);\n",
       "  --xr-border-color: #1F1F1F;\n",
       "  --xr-disabled-color: #515151;\n",
       "  --xr-background-color: #111111;\n",
       "  --xr-background-color-row-even: #111111;\n",
       "  --xr-background-color-row-odd: #313131;\n",
       "}\n",
       "\n",
       ".xr-wrap {\n",
       "  display: block !important;\n",
       "  min-width: 300px;\n",
       "  max-width: 700px;\n",
       "}\n",
       "\n",
       ".xr-text-repr-fallback {\n",
       "  /* fallback to plain text repr when CSS is not injected (untrusted notebook) */\n",
       "  display: none;\n",
       "}\n",
       "\n",
       ".xr-header {\n",
       "  padding-top: 6px;\n",
       "  padding-bottom: 6px;\n",
       "  margin-bottom: 4px;\n",
       "  border-bottom: solid 1px var(--xr-border-color);\n",
       "}\n",
       "\n",
       ".xr-header > div,\n",
       ".xr-header > ul {\n",
       "  display: inline;\n",
       "  margin-top: 0;\n",
       "  margin-bottom: 0;\n",
       "}\n",
       "\n",
       ".xr-obj-type,\n",
       ".xr-array-name {\n",
       "  margin-left: 2px;\n",
       "  margin-right: 10px;\n",
       "}\n",
       "\n",
       ".xr-obj-type {\n",
       "  color: var(--xr-font-color2);\n",
       "}\n",
       "\n",
       ".xr-sections {\n",
       "  padding-left: 0 !important;\n",
       "  display: grid;\n",
       "  grid-template-columns: 150px auto auto 1fr 20px 20px;\n",
       "}\n",
       "\n",
       ".xr-section-item {\n",
       "  display: contents;\n",
       "}\n",
       "\n",
       ".xr-section-item input {\n",
       "  display: none;\n",
       "}\n",
       "\n",
       ".xr-section-item input + label {\n",
       "  color: var(--xr-disabled-color);\n",
       "}\n",
       "\n",
       ".xr-section-item input:enabled + label {\n",
       "  cursor: pointer;\n",
       "  color: var(--xr-font-color2);\n",
       "}\n",
       "\n",
       ".xr-section-item input:enabled + label:hover {\n",
       "  color: var(--xr-font-color0);\n",
       "}\n",
       "\n",
       ".xr-section-summary {\n",
       "  grid-column: 1;\n",
       "  color: var(--xr-font-color2);\n",
       "  font-weight: 500;\n",
       "}\n",
       "\n",
       ".xr-section-summary > span {\n",
       "  display: inline-block;\n",
       "  padding-left: 0.5em;\n",
       "}\n",
       "\n",
       ".xr-section-summary-in:disabled + label {\n",
       "  color: var(--xr-font-color2);\n",
       "}\n",
       "\n",
       ".xr-section-summary-in + label:before {\n",
       "  display: inline-block;\n",
       "  content: '►';\n",
       "  font-size: 11px;\n",
       "  width: 15px;\n",
       "  text-align: center;\n",
       "}\n",
       "\n",
       ".xr-section-summary-in:disabled + label:before {\n",
       "  color: var(--xr-disabled-color);\n",
       "}\n",
       "\n",
       ".xr-section-summary-in:checked + label:before {\n",
       "  content: '▼';\n",
       "}\n",
       "\n",
       ".xr-section-summary-in:checked + label > span {\n",
       "  display: none;\n",
       "}\n",
       "\n",
       ".xr-section-summary,\n",
       ".xr-section-inline-details {\n",
       "  padding-top: 4px;\n",
       "  padding-bottom: 4px;\n",
       "}\n",
       "\n",
       ".xr-section-inline-details {\n",
       "  grid-column: 2 / -1;\n",
       "}\n",
       "\n",
       ".xr-section-details {\n",
       "  display: none;\n",
       "  grid-column: 1 / -1;\n",
       "  margin-bottom: 5px;\n",
       "}\n",
       "\n",
       ".xr-section-summary-in:checked ~ .xr-section-details {\n",
       "  display: contents;\n",
       "}\n",
       "\n",
       ".xr-array-wrap {\n",
       "  grid-column: 1 / -1;\n",
       "  display: grid;\n",
       "  grid-template-columns: 20px auto;\n",
       "}\n",
       "\n",
       ".xr-array-wrap > label {\n",
       "  grid-column: 1;\n",
       "  vertical-align: top;\n",
       "}\n",
       "\n",
       ".xr-preview {\n",
       "  color: var(--xr-font-color3);\n",
       "}\n",
       "\n",
       ".xr-array-preview,\n",
       ".xr-array-data {\n",
       "  padding: 0 5px !important;\n",
       "  grid-column: 2;\n",
       "}\n",
       "\n",
       ".xr-array-data,\n",
       ".xr-array-in:checked ~ .xr-array-preview {\n",
       "  display: none;\n",
       "}\n",
       "\n",
       ".xr-array-in:checked ~ .xr-array-data,\n",
       ".xr-array-preview {\n",
       "  display: inline-block;\n",
       "}\n",
       "\n",
       ".xr-dim-list {\n",
       "  display: inline-block !important;\n",
       "  list-style: none;\n",
       "  padding: 0 !important;\n",
       "  margin: 0;\n",
       "}\n",
       "\n",
       ".xr-dim-list li {\n",
       "  display: inline-block;\n",
       "  padding: 0;\n",
       "  margin: 0;\n",
       "}\n",
       "\n",
       ".xr-dim-list:before {\n",
       "  content: '(';\n",
       "}\n",
       "\n",
       ".xr-dim-list:after {\n",
       "  content: ')';\n",
       "}\n",
       "\n",
       ".xr-dim-list li:not(:last-child):after {\n",
       "  content: ',';\n",
       "  padding-right: 5px;\n",
       "}\n",
       "\n",
       ".xr-has-index {\n",
       "  font-weight: bold;\n",
       "}\n",
       "\n",
       ".xr-var-list,\n",
       ".xr-var-item {\n",
       "  display: contents;\n",
       "}\n",
       "\n",
       ".xr-var-item > div,\n",
       ".xr-var-item label,\n",
       ".xr-var-item > .xr-var-name span {\n",
       "  background-color: var(--xr-background-color-row-even);\n",
       "  margin-bottom: 0;\n",
       "}\n",
       "\n",
       ".xr-var-item > .xr-var-name:hover span {\n",
       "  padding-right: 5px;\n",
       "}\n",
       "\n",
       ".xr-var-list > li:nth-child(odd) > div,\n",
       ".xr-var-list > li:nth-child(odd) > label,\n",
       ".xr-var-list > li:nth-child(odd) > .xr-var-name span {\n",
       "  background-color: var(--xr-background-color-row-odd);\n",
       "}\n",
       "\n",
       ".xr-var-name {\n",
       "  grid-column: 1;\n",
       "}\n",
       "\n",
       ".xr-var-dims {\n",
       "  grid-column: 2;\n",
       "}\n",
       "\n",
       ".xr-var-dtype {\n",
       "  grid-column: 3;\n",
       "  text-align: right;\n",
       "  color: var(--xr-font-color2);\n",
       "}\n",
       "\n",
       ".xr-var-preview {\n",
       "  grid-column: 4;\n",
       "}\n",
       "\n",
       ".xr-index-preview {\n",
       "  grid-column: 2 / 5;\n",
       "  color: var(--xr-font-color2);\n",
       "}\n",
       "\n",
       ".xr-var-name,\n",
       ".xr-var-dims,\n",
       ".xr-var-dtype,\n",
       ".xr-preview,\n",
       ".xr-attrs dt {\n",
       "  white-space: nowrap;\n",
       "  overflow: hidden;\n",
       "  text-overflow: ellipsis;\n",
       "  padding-right: 10px;\n",
       "}\n",
       "\n",
       ".xr-var-name:hover,\n",
       ".xr-var-dims:hover,\n",
       ".xr-var-dtype:hover,\n",
       ".xr-attrs dt:hover {\n",
       "  overflow: visible;\n",
       "  width: auto;\n",
       "  z-index: 1;\n",
       "}\n",
       "\n",
       ".xr-var-attrs,\n",
       ".xr-var-data,\n",
       ".xr-index-data {\n",
       "  display: none;\n",
       "  background-color: var(--xr-background-color) !important;\n",
       "  padding-bottom: 5px !important;\n",
       "}\n",
       "\n",
       ".xr-var-attrs-in:checked ~ .xr-var-attrs,\n",
       ".xr-var-data-in:checked ~ .xr-var-data,\n",
       ".xr-index-data-in:checked ~ .xr-index-data {\n",
       "  display: block;\n",
       "}\n",
       "\n",
       ".xr-var-data > table {\n",
       "  float: right;\n",
       "}\n",
       "\n",
       ".xr-var-name span,\n",
       ".xr-var-data,\n",
       ".xr-index-name div,\n",
       ".xr-index-data,\n",
       ".xr-attrs {\n",
       "  padding-left: 25px !important;\n",
       "}\n",
       "\n",
       ".xr-attrs,\n",
       ".xr-var-attrs,\n",
       ".xr-var-data,\n",
       ".xr-index-data {\n",
       "  grid-column: 1 / -1;\n",
       "}\n",
       "\n",
       "dl.xr-attrs {\n",
       "  padding: 0;\n",
       "  margin: 0;\n",
       "  display: grid;\n",
       "  grid-template-columns: 125px auto;\n",
       "}\n",
       "\n",
       ".xr-attrs dt,\n",
       ".xr-attrs dd {\n",
       "  padding: 0;\n",
       "  margin: 0;\n",
       "  float: left;\n",
       "  padding-right: 10px;\n",
       "  width: auto;\n",
       "}\n",
       "\n",
       ".xr-attrs dt {\n",
       "  font-weight: normal;\n",
       "  grid-column: 1;\n",
       "}\n",
       "\n",
       ".xr-attrs dt:hover span {\n",
       "  display: inline-block;\n",
       "  background: var(--xr-background-color);\n",
       "  padding-right: 10px;\n",
       "}\n",
       "\n",
       ".xr-attrs dd {\n",
       "  grid-column: 2;\n",
       "  white-space: pre-wrap;\n",
       "  word-break: break-all;\n",
       "}\n",
       "\n",
       ".xr-icon-database,\n",
       ".xr-icon-file-text2,\n",
       ".xr-no-icon {\n",
       "  display: inline-block;\n",
       "  vertical-align: middle;\n",
       "  width: 1em;\n",
       "  height: 1.5em !important;\n",
       "  stroke-width: 0;\n",
       "  stroke: currentColor;\n",
       "  fill: currentColor;\n",
       "}\n",
       "</style><pre class='xr-text-repr-fallback'>&lt;xarray.Dataset&gt;\n",
       "Dimensions:    (time: 8640, id: 134)\n",
       "Coordinates:\n",
       "  * time       (time) datetime64[ns] 2017-07-01 ... 2017-07-30T23:55:00\n",
       "  * id         (id) &lt;U6 &#x27;ams1&#x27; &#x27;ams2&#x27; &#x27;ams3&#x27; ... &#x27;ams132&#x27; &#x27;ams133&#x27; &#x27;ams134&#x27;\n",
       "    elevation  (id) &lt;U3 ...\n",
       "    latitude   (id) float64 ...\n",
       "    longitude  (id) float64 ...\n",
       "Data variables:\n",
       "    rainfall   (id, time) float64 ...\n",
       "Attributes:\n",
       "    title:                 PWS data from Amsterdam\n",
       "    file author:           Maximilian Graf\n",
       "    institution:           Wageningen University and Research, Department of ...\n",
       "    date:                  2022-10-18 10:32:00\n",
       "    source:                Netamo PWS\n",
       "    history:               Data derived and reformated from the originally pu...\n",
       "    naming convention:     OpenSense-0.1\n",
       "    license restrictions:  CC-BY 4.0 https://creativecommons.org/licenses/by/...\n",
       "    reference:             https://doi.org/10.1029/2019GL083731\n",
       "    comment:               </pre><div class='xr-wrap' style='display:none'><div class='xr-header'><div class='xr-obj-type'>xarray.Dataset</div></div><ul class='xr-sections'><li class='xr-section-item'><input id='section-55017aa6-5363-4dad-a203-e14e7b8950b5' class='xr-section-summary-in' type='checkbox' disabled ><label for='section-55017aa6-5363-4dad-a203-e14e7b8950b5' class='xr-section-summary'  title='Expand/collapse section'>Dimensions:</label><div class='xr-section-inline-details'><ul class='xr-dim-list'><li><span class='xr-has-index'>time</span>: 8640</li><li><span class='xr-has-index'>id</span>: 134</li></ul></div><div class='xr-section-details'></div></li><li class='xr-section-item'><input id='section-0b848c90-2d8d-4164-a4ea-e3db05323449' class='xr-section-summary-in' type='checkbox'  checked><label for='section-0b848c90-2d8d-4164-a4ea-e3db05323449' class='xr-section-summary' >Coordinates: <span>(5)</span></label><div class='xr-section-inline-details'></div><div class='xr-section-details'><ul class='xr-var-list'><li class='xr-var-item'><div class='xr-var-name'><span class='xr-has-index'>time</span></div><div class='xr-var-dims'>(time)</div><div class='xr-var-dtype'>datetime64[ns]</div><div class='xr-var-preview xr-preview'>2017-07-01 ... 2017-07-30T23:55:00</div><input id='attrs-1e2a7caa-8d70-4714-baf6-19cb2b217320' class='xr-var-attrs-in' type='checkbox' ><label for='attrs-1e2a7caa-8d70-4714-baf6-19cb2b217320' title='Show/Hide attributes'><svg class='icon xr-icon-file-text2'><use xlink:href='#icon-file-text2'></use></svg></label><input id='data-002d6dd5-1d55-4f6a-a2c6-a9eff7a02ecb' class='xr-var-data-in' type='checkbox'><label for='data-002d6dd5-1d55-4f6a-a2c6-a9eff7a02ecb' title='Show/Hide data repr'><svg class='icon xr-icon-database'><use xlink:href='#icon-database'></use></svg></label><div class='xr-var-attrs'><dl class='xr-attrs'><dt><span>unit :</span></dt><dd>seconds since 1970-01-01 00:00:00</dd></dl></div><div class='xr-var-data'><pre>array([&#x27;2017-07-01T00:00:00.000000000&#x27;, &#x27;2017-07-01T00:05:00.000000000&#x27;,\n",
       "       &#x27;2017-07-01T00:10:00.000000000&#x27;, ..., &#x27;2017-07-30T23:45:00.000000000&#x27;,\n",
       "       &#x27;2017-07-30T23:50:00.000000000&#x27;, &#x27;2017-07-30T23:55:00.000000000&#x27;],\n",
       "      dtype=&#x27;datetime64[ns]&#x27;)</pre></div></li><li class='xr-var-item'><div class='xr-var-name'><span class='xr-has-index'>id</span></div><div class='xr-var-dims'>(id)</div><div class='xr-var-dtype'>&lt;U6</div><div class='xr-var-preview xr-preview'>&#x27;ams1&#x27; &#x27;ams2&#x27; ... &#x27;ams133&#x27; &#x27;ams134&#x27;</div><input id='attrs-b7122c96-cac0-44fd-adcb-7e85043b0626' class='xr-var-attrs-in' type='checkbox' disabled><label for='attrs-b7122c96-cac0-44fd-adcb-7e85043b0626' title='Show/Hide attributes'><svg class='icon xr-icon-file-text2'><use xlink:href='#icon-file-text2'></use></svg></label><input id='data-022d3785-d4ce-4759-a700-6a242d20a94a' class='xr-var-data-in' type='checkbox'><label for='data-022d3785-d4ce-4759-a700-6a242d20a94a' title='Show/Hide data repr'><svg class='icon xr-icon-database'><use xlink:href='#icon-database'></use></svg></label><div class='xr-var-attrs'><dl class='xr-attrs'></dl></div><div class='xr-var-data'><pre>array([&#x27;ams1&#x27;, &#x27;ams2&#x27;, &#x27;ams3&#x27;, &#x27;ams4&#x27;, &#x27;ams5&#x27;, &#x27;ams6&#x27;, &#x27;ams7&#x27;, &#x27;ams8&#x27;, &#x27;ams9&#x27;,\n",
       "       &#x27;ams10&#x27;, &#x27;ams11&#x27;, &#x27;ams12&#x27;, &#x27;ams13&#x27;, &#x27;ams14&#x27;, &#x27;ams15&#x27;, &#x27;ams16&#x27;, &#x27;ams17&#x27;,\n",
       "       &#x27;ams18&#x27;, &#x27;ams19&#x27;, &#x27;ams20&#x27;, &#x27;ams21&#x27;, &#x27;ams22&#x27;, &#x27;ams23&#x27;, &#x27;ams24&#x27;, &#x27;ams25&#x27;,\n",
       "       &#x27;ams26&#x27;, &#x27;ams27&#x27;, &#x27;ams28&#x27;, &#x27;ams29&#x27;, &#x27;ams30&#x27;, &#x27;ams31&#x27;, &#x27;ams32&#x27;, &#x27;ams33&#x27;,\n",
       "       &#x27;ams34&#x27;, &#x27;ams35&#x27;, &#x27;ams36&#x27;, &#x27;ams37&#x27;, &#x27;ams38&#x27;, &#x27;ams39&#x27;, &#x27;ams40&#x27;, &#x27;ams41&#x27;,\n",
       "       &#x27;ams42&#x27;, &#x27;ams43&#x27;, &#x27;ams44&#x27;, &#x27;ams45&#x27;, &#x27;ams46&#x27;, &#x27;ams47&#x27;, &#x27;ams48&#x27;, &#x27;ams49&#x27;,\n",
       "       &#x27;ams50&#x27;, &#x27;ams51&#x27;, &#x27;ams52&#x27;, &#x27;ams53&#x27;, &#x27;ams54&#x27;, &#x27;ams55&#x27;, &#x27;ams56&#x27;, &#x27;ams57&#x27;,\n",
       "       &#x27;ams58&#x27;, &#x27;ams59&#x27;, &#x27;ams60&#x27;, &#x27;ams61&#x27;, &#x27;ams62&#x27;, &#x27;ams63&#x27;, &#x27;ams64&#x27;, &#x27;ams65&#x27;,\n",
       "       &#x27;ams66&#x27;, &#x27;ams67&#x27;, &#x27;ams68&#x27;, &#x27;ams69&#x27;, &#x27;ams70&#x27;, &#x27;ams71&#x27;, &#x27;ams72&#x27;, &#x27;ams73&#x27;,\n",
       "       &#x27;ams74&#x27;, &#x27;ams75&#x27;, &#x27;ams76&#x27;, &#x27;ams77&#x27;, &#x27;ams78&#x27;, &#x27;ams79&#x27;, &#x27;ams80&#x27;, &#x27;ams81&#x27;,\n",
       "       &#x27;ams82&#x27;, &#x27;ams83&#x27;, &#x27;ams84&#x27;, &#x27;ams85&#x27;, &#x27;ams86&#x27;, &#x27;ams87&#x27;, &#x27;ams88&#x27;, &#x27;ams89&#x27;,\n",
       "       &#x27;ams90&#x27;, &#x27;ams91&#x27;, &#x27;ams92&#x27;, &#x27;ams93&#x27;, &#x27;ams94&#x27;, &#x27;ams95&#x27;, &#x27;ams96&#x27;, &#x27;ams97&#x27;,\n",
       "       &#x27;ams98&#x27;, &#x27;ams99&#x27;, &#x27;ams100&#x27;, &#x27;ams101&#x27;, &#x27;ams102&#x27;, &#x27;ams103&#x27;, &#x27;ams104&#x27;,\n",
       "       &#x27;ams105&#x27;, &#x27;ams106&#x27;, &#x27;ams107&#x27;, &#x27;ams108&#x27;, &#x27;ams109&#x27;, &#x27;ams110&#x27;, &#x27;ams111&#x27;,\n",
       "       &#x27;ams112&#x27;, &#x27;ams113&#x27;, &#x27;ams114&#x27;, &#x27;ams115&#x27;, &#x27;ams116&#x27;, &#x27;ams117&#x27;, &#x27;ams118&#x27;,\n",
       "       &#x27;ams119&#x27;, &#x27;ams120&#x27;, &#x27;ams121&#x27;, &#x27;ams122&#x27;, &#x27;ams123&#x27;, &#x27;ams124&#x27;, &#x27;ams125&#x27;,\n",
       "       &#x27;ams126&#x27;, &#x27;ams127&#x27;, &#x27;ams128&#x27;, &#x27;ams129&#x27;, &#x27;ams130&#x27;, &#x27;ams131&#x27;, &#x27;ams132&#x27;,\n",
       "       &#x27;ams133&#x27;, &#x27;ams134&#x27;], dtype=&#x27;&lt;U6&#x27;)</pre></div></li><li class='xr-var-item'><div class='xr-var-name'><span>elevation</span></div><div class='xr-var-dims'>(id)</div><div class='xr-var-dtype'>&lt;U3</div><div class='xr-var-preview xr-preview'>...</div><input id='attrs-060ffd21-d82d-49bb-98fa-4a6cb4574e3a' class='xr-var-attrs-in' type='checkbox' ><label for='attrs-060ffd21-d82d-49bb-98fa-4a6cb4574e3a' title='Show/Hide attributes'><svg class='icon xr-icon-file-text2'><use xlink:href='#icon-file-text2'></use></svg></label><input id='data-58f3bbcf-4a22-4fd9-a6be-a244851f2072' class='xr-var-data-in' type='checkbox'><label for='data-58f3bbcf-4a22-4fd9-a6be-a244851f2072' title='Show/Hide data repr'><svg class='icon xr-icon-database'><use xlink:href='#icon-database'></use></svg></label><div class='xr-var-attrs'><dl class='xr-attrs'><dt><span>units :</span></dt><dd>meters</dd><dt><span>longname :</span></dt><dd>meters_above_sea</dd></dl></div><div class='xr-var-data'><pre>[134 values with dtype=&lt;U3]</pre></div></li><li class='xr-var-item'><div class='xr-var-name'><span>latitude</span></div><div class='xr-var-dims'>(id)</div><div class='xr-var-dtype'>float64</div><div class='xr-var-preview xr-preview'>...</div><input id='attrs-ecbeb5f6-bd1c-47bd-8965-d4aaf85c9a69' class='xr-var-attrs-in' type='checkbox' ><label for='attrs-ecbeb5f6-bd1c-47bd-8965-d4aaf85c9a69' title='Show/Hide attributes'><svg class='icon xr-icon-file-text2'><use xlink:href='#icon-file-text2'></use></svg></label><input id='data-9d8541c4-645f-4eab-9b74-dc1ffe30d545' class='xr-var-data-in' type='checkbox'><label for='data-9d8541c4-645f-4eab-9b74-dc1ffe30d545' title='Show/Hide data repr'><svg class='icon xr-icon-database'><use xlink:href='#icon-database'></use></svg></label><div class='xr-var-attrs'><dl class='xr-attrs'><dt><span>units :</span></dt><dd>degrees in WGS84 projection</dd></dl></div><div class='xr-var-data'><pre>[134 values with dtype=float64]</pre></div></li><li class='xr-var-item'><div class='xr-var-name'><span>longitude</span></div><div class='xr-var-dims'>(id)</div><div class='xr-var-dtype'>float64</div><div class='xr-var-preview xr-preview'>...</div><input id='attrs-fddb1502-7d0b-4bfa-b57a-7820294ee2bb' class='xr-var-attrs-in' type='checkbox' ><label for='attrs-fddb1502-7d0b-4bfa-b57a-7820294ee2bb' title='Show/Hide attributes'><svg class='icon xr-icon-file-text2'><use xlink:href='#icon-file-text2'></use></svg></label><input id='data-46275bab-09ed-418d-aea4-625d25c73848' class='xr-var-data-in' type='checkbox'><label for='data-46275bab-09ed-418d-aea4-625d25c73848' title='Show/Hide data repr'><svg class='icon xr-icon-database'><use xlink:href='#icon-database'></use></svg></label><div class='xr-var-attrs'><dl class='xr-attrs'><dt><span>units :</span></dt><dd>degrees in WGS84 projection</dd></dl></div><div class='xr-var-data'><pre>[134 values with dtype=float64]</pre></div></li></ul></div></li><li class='xr-section-item'><input id='section-5a730098-a074-4759-9f39-a8e7d7f004d0' class='xr-section-summary-in' type='checkbox'  checked><label for='section-5a730098-a074-4759-9f39-a8e7d7f004d0' class='xr-section-summary' >Data variables: <span>(1)</span></label><div class='xr-section-inline-details'></div><div class='xr-section-details'><ul class='xr-var-list'><li class='xr-var-item'><div class='xr-var-name'><span>rainfall</span></div><div class='xr-var-dims'>(id, time)</div><div class='xr-var-dtype'>float64</div><div class='xr-var-preview xr-preview'>...</div><input id='attrs-fcefa206-0170-4d65-ae10-2d18ccce9639' class='xr-var-attrs-in' type='checkbox' ><label for='attrs-fcefa206-0170-4d65-ae10-2d18ccce9639' title='Show/Hide attributes'><svg class='icon xr-icon-file-text2'><use xlink:href='#icon-file-text2'></use></svg></label><input id='data-22eaa51a-a544-4a47-a243-da4aa958f915' class='xr-var-data-in' type='checkbox'><label for='data-22eaa51a-a544-4a47-a243-da4aa958f915' title='Show/Hide data repr'><svg class='icon xr-icon-database'><use xlink:href='#icon-database'></use></svg></label><div class='xr-var-attrs'><dl class='xr-attrs'><dt><span>name :</span></dt><dd>rainfall</dd><dt><span>long_name :</span></dt><dd>rainfall amount per time unit</dd><dt><span>units :</span></dt><dd>mm</dd><dt><span>coverage_contant_type :</span></dt><dd>physicalMeasurement</dd></dl></div><div class='xr-var-data'><pre>[1157760 values with dtype=float64]</pre></div></li></ul></div></li><li class='xr-section-item'><input id='section-5c2ac32c-4a58-489b-ba98-4659217326e9' class='xr-section-summary-in' type='checkbox'  ><label for='section-5c2ac32c-4a58-489b-ba98-4659217326e9' class='xr-section-summary' >Indexes: <span>(2)</span></label><div class='xr-section-inline-details'></div><div class='xr-section-details'><ul class='xr-var-list'><li class='xr-var-item'><div class='xr-index-name'><div>time</div></div><div class='xr-index-preview'>PandasIndex</div><div></div><input id='index-1ff8bf02-b6f0-4d1d-a3ba-ceba6c86a48c' class='xr-index-data-in' type='checkbox'/><label for='index-1ff8bf02-b6f0-4d1d-a3ba-ceba6c86a48c' title='Show/Hide index repr'><svg class='icon xr-icon-database'><use xlink:href='#icon-database'></use></svg></label><div class='xr-index-data'><pre>PandasIndex(DatetimeIndex([&#x27;2017-07-01 00:00:00&#x27;, &#x27;2017-07-01 00:05:00&#x27;,\n",
       "               &#x27;2017-07-01 00:10:00&#x27;, &#x27;2017-07-01 00:15:00&#x27;,\n",
       "               &#x27;2017-07-01 00:20:00&#x27;, &#x27;2017-07-01 00:25:00&#x27;,\n",
       "               &#x27;2017-07-01 00:30:00&#x27;, &#x27;2017-07-01 00:35:00&#x27;,\n",
       "               &#x27;2017-07-01 00:40:00&#x27;, &#x27;2017-07-01 00:45:00&#x27;,\n",
       "               ...\n",
       "               &#x27;2017-07-30 23:10:00&#x27;, &#x27;2017-07-30 23:15:00&#x27;,\n",
       "               &#x27;2017-07-30 23:20:00&#x27;, &#x27;2017-07-30 23:25:00&#x27;,\n",
       "               &#x27;2017-07-30 23:30:00&#x27;, &#x27;2017-07-30 23:35:00&#x27;,\n",
       "               &#x27;2017-07-30 23:40:00&#x27;, &#x27;2017-07-30 23:45:00&#x27;,\n",
       "               &#x27;2017-07-30 23:50:00&#x27;, &#x27;2017-07-30 23:55:00&#x27;],\n",
       "              dtype=&#x27;datetime64[ns]&#x27;, name=&#x27;time&#x27;, length=8640, freq=None))</pre></div></li><li class='xr-var-item'><div class='xr-index-name'><div>id</div></div><div class='xr-index-preview'>PandasIndex</div><div></div><input id='index-369747c5-9848-4164-a925-92428b5897e1' class='xr-index-data-in' type='checkbox'/><label for='index-369747c5-9848-4164-a925-92428b5897e1' title='Show/Hide index repr'><svg class='icon xr-icon-database'><use xlink:href='#icon-database'></use></svg></label><div class='xr-index-data'><pre>PandasIndex(Index([&#x27;ams1&#x27;, &#x27;ams2&#x27;, &#x27;ams3&#x27;, &#x27;ams4&#x27;, &#x27;ams5&#x27;, &#x27;ams6&#x27;, &#x27;ams7&#x27;, &#x27;ams8&#x27;, &#x27;ams9&#x27;,\n",
       "       &#x27;ams10&#x27;,\n",
       "       ...\n",
       "       &#x27;ams125&#x27;, &#x27;ams126&#x27;, &#x27;ams127&#x27;, &#x27;ams128&#x27;, &#x27;ams129&#x27;, &#x27;ams130&#x27;, &#x27;ams131&#x27;,\n",
       "       &#x27;ams132&#x27;, &#x27;ams133&#x27;, &#x27;ams134&#x27;],\n",
       "      dtype=&#x27;object&#x27;, name=&#x27;id&#x27;, length=134))</pre></div></li></ul></div></li><li class='xr-section-item'><input id='section-5d053be0-540b-4a31-8544-ef98a971a573' class='xr-section-summary-in' type='checkbox'  ><label for='section-5d053be0-540b-4a31-8544-ef98a971a573' class='xr-section-summary' >Attributes: <span>(10)</span></label><div class='xr-section-inline-details'></div><div class='xr-section-details'><dl class='xr-attrs'><dt><span>title :</span></dt><dd>PWS data from Amsterdam</dd><dt><span>file author :</span></dt><dd>Maximilian Graf</dd><dt><span>institution :</span></dt><dd>Wageningen University and Research, Department of Environmental Sciences</dd><dt><span>date :</span></dt><dd>2022-10-18 10:32:00</dd><dt><span>source :</span></dt><dd>Netamo PWS</dd><dt><span>history :</span></dt><dd>Data derived and reformated from the originally published dataset</dd><dt><span>naming convention :</span></dt><dd>OpenSense-0.1</dd><dt><span>license restrictions :</span></dt><dd>CC-BY 4.0 https://creativecommons.org/licenses/by/4.0/</dd><dt><span>reference :</span></dt><dd>https://doi.org/10.1029/2019GL083731</dd><dt><span>comment :</span></dt><dd></dd></dl></div></li></ul></div></div>"
      ],
      "text/plain": [
       "<xarray.Dataset>\n",
       "Dimensions:    (time: 8640, id: 134)\n",
       "Coordinates:\n",
       "  * time       (time) datetime64[ns] 2017-07-01 ... 2017-07-30T23:55:00\n",
       "  * id         (id) <U6 'ams1' 'ams2' 'ams3' ... 'ams132' 'ams133' 'ams134'\n",
       "    elevation  (id) <U3 ...\n",
       "    latitude   (id) float64 ...\n",
       "    longitude  (id) float64 ...\n",
       "Data variables:\n",
       "    rainfall   (id, time) float64 ...\n",
       "Attributes:\n",
       "    title:                 PWS data from Amsterdam\n",
       "    file author:           Maximilian Graf\n",
       "    institution:           Wageningen University and Research, Department of ...\n",
       "    date:                  2022-10-18 10:32:00\n",
       "    source:                Netamo PWS\n",
       "    history:               Data derived and reformated from the originally pu...\n",
       "    naming convention:     OpenSense-0.1\n",
       "    license restrictions:  CC-BY 4.0 https://creativecommons.org/licenses/by/...\n",
       "    reference:             https://doi.org/10.1029/2019GL083731\n",
       "    comment:               "
      ]
     },
     "execution_count": 4,
     "metadata": {},
     "output_type": "execute_result"
    }
   ],
   "source": [
    "ds_pws = ds_pws.sel(time=slice(\"2017-07-01\", \"2017-07-30\"))\n",
    "ds_pws"
   ]
  },
  {
   "cell_type": "markdown",
   "id": "2e154e21-f280-4fed-9512-e5f9d01c813f",
   "metadata": {},
   "source": [
    "### Reproject coordinates "
   ]
  },
  {
   "cell_type": "markdown",
   "id": "36741703-1d9a-4e5c-8fc4-e8f3d7019247",
   "metadata": {},
   "source": [
    "First we reproject the coordinates to a local metric coordinate reference system to allow for distance calculations. In the Amsterdam example we use EPSG:25832. **Remember to use a local metric reference system for your use case!** We use the function `spatial.project_point_coordinates` in the `poligrain`package. "
   ]
  },
  {
   "cell_type": "code",
   "execution_count": 5,
   "id": "cf503ba3-25b1-431a-a4cc-ed1ef75b1a8a",
   "metadata": {},
   "outputs": [],
   "source": [
    "ds_pws.coords[\"x\"], ds_pws.coords[\"y\"] = plg.spatial.project_point_coordinates(\n",
    "    x=ds_pws.longitude, y=ds_pws.latitude, target_projection=\"EPSG:25832\"\n",
    ")"
   ]
  },
  {
   "cell_type": "markdown",
   "id": "7b3cb873-e151-4fe4-8391-48479cf0179a",
   "metadata": {},
   "source": [
    "### Create distance matrix\n",
    "\n",
    "Then, we calculate the distances between all stations in our data set. If your data set has a large number of stations this can take some time."
   ]
  },
  {
   "cell_type": "code",
   "execution_count": 6,
   "id": "0cb2270c-e3e8-43fe-9df0-8b88611c0c55",
   "metadata": {},
   "outputs": [],
   "source": [
    "distance_matrix = plg.spatial.calc_point_to_point_distances(ds_pws, ds_pws)"
   ]
  },
  {
   "cell_type": "markdown",
   "id": "210ccb66-236f-49b8-b6a8-c78edd92ac60",
   "metadata": {},
   "source": [
    "### Select range for neighbouring checks"
   ]
  },
  {
   "cell_type": "markdown",
   "id": "38d25c8d-47bc-4f3c-82f0-9749a0bf593f",
   "metadata": {},
   "source": [
    "The quality control is performed by comparing time series of each station with the time series of neighbouring stations within a specificed range `max_distance`. The selected range depends on the use case and area of interest. In this example, we use 10'000 meters. `max_distance` is called `d` in the [original publication](https://agupubs.onlinelibrary.wiley.com/doi/full/10.1029/2019GL083731)."
   ]
  },
  {
   "cell_type": "markdown",
   "id": "c375fd9b-e3d6-4c5a-ace6-e0a4339dd239",
   "metadata": {},
   "source": [
    "### Select considered range around each station"
   ]
  },
  {
   "cell_type": "code",
   "execution_count": 7,
   "id": "ad8fb97b-976d-4011-a9ec-c03a42d89f64",
   "metadata": {},
   "outputs": [],
   "source": [
    "max_distance = 10e3"
   ]
  },
  {
   "cell_type": "markdown",
   "id": "42ccbafe-b798-49a4-b637-6ee99062e2a3",
   "metadata": {},
   "source": [
    "## Quality control"
   ]
  },
  {
   "cell_type": "markdown",
   "id": "a35b4f4d-a945-49f6-9fb5-d67406ca79b3",
   "metadata": {},
   "source": [
    "Now the data set is prepared to run the quality control."
   ]
  },
  {
   "cell_type": "markdown",
   "id": "3734095c-ca51-45cd-9a8c-6626ab837082",
   "metadata": {},
   "source": [
    "### Station Outlier filter"
   ]
  },
  {
   "cell_type": "markdown",
   "id": "d308283d-ff36-4016-877c-91543443b30b",
   "metadata": {},
   "source": [
    "Conditions for raising Station Outlier flag:\n",
    "\n",
    "* Median of the rolling pearson correlation with all neighboring stations within range `max_distance` is less than threshold `gamma`\n",
    "* Filter cannot be applied if less than `n_stat` neighbours are reporting data (SO flag is set to -1)\n",
    "*  Filter cannot be applied if there are less than `n_stat` neighbours with less than `mmatch` intervals overlapping with the evaluated station (SO flag is set to -1)\n",
    "\n",
    "For settings for parameter `evaluation_period`, `mmatch`, `gamma`, and `n_stat`, see table 1 in https://agupubs.onlinelibrary.wiley.com/doi/full/10.1029/2019GL083731 \n",
    "\n",
    "Note! The SO-filter is different compared with the original R-code. In its original implementation, any interval with at least `mrain` intervals of nonzero rainfall measurements is evaluated. In this implementation, only a fixed rolling time window is evaluated. Therefore, the `mrain` variable from the orignal code is not needed. In the original publication, the variable `evaluation_period` (the evaluation period) is set to 4032. For 5-minute data, this is equivalent of two weeks. When the option of a variable evaluation period is excluded, two weeks is often too short as there might not be enough wet periods in the last two weeks to calculate the correlation. This results in a lot of '-1'-flags (filter cannot be applied). It is suggested to use a longer evaluation period, for example four weeks (`evaluation_period` = 8064 for 5-minute data).\n",
    "\n",
    "The first `evaluation_period` timesteps (here set to 8064 time steps), the rollig median correlation is computed with the last time steps in the time series. Therefore, the resulting `median_corr_nbrs` should be disregarded the first `evaluation_period` time steps.\n",
    "\n",
    "`evaluation_period` is called `mint`in the original publication."
   ]
  },
  {
   "cell_type": "markdown",
   "id": "2a1b9843-2115-44a6-a83b-452df4908cd8",
   "metadata": {},
   "source": [
    "We initialize data variables for the resulting SO-flags and the median pearson correlation with neighboring stations with the value -999. If the variables have the value 0 (passed the test), 1 (did not pass the test) or -1 (not enough information) after running the SO-filter, we know that these time series have been evaluated. If the value is still -999, this means that something went wrong as the data has not been processed. \n",
    "\n",
    "We also save the threshold `gamma` as a variable. In this way we can easily visualize if the median correlation with neighbors drops below this threshold, which is the condition for raising a SO-flag."
   ]
  },
  {
   "cell_type": "markdown",
   "id": "4ce4c31f-dd0d-4721-bae3-f77cc26bd976",
   "metadata": {},
   "source": [
    "#### Set SO parameters"
   ]
  },
  {
   "cell_type": "code",
   "execution_count": 8,
   "id": "aeda5019-ca1c-4e30-befc-46c10604be03",
   "metadata": {},
   "outputs": [],
   "source": [
    "evaluation_period = 8064\n",
    "mmatch = 200\n",
    "gamma = 0.15\n",
    "n_stat = 5"
   ]
  },
  {
   "cell_type": "markdown",
   "id": "83addcaf-30a4-4131-a922-d07bf1ea63a3",
   "metadata": {},
   "source": [
    "#### Set bias correction parameters (optional)"
   ]
  },
  {
   "cell_type": "markdown",
   "id": "3be5fdef-9473-4d07-b6f2-79ddfcaf3f25",
   "metadata": {},
   "source": [
    "If the variable `bias_corr` is set to True (default: False), a bias correction factor will be calculated per time step over a rolling window of length `evaluation_period` time steps - the same window length applied to calculate the SO flags. The bias correction can also be calculated separately using the bias correction notebook. The default is to use the median rainfall of the neighboring stations as reference. To use another data source as reference, that data must be added as a variable named `reference` to the xarray data set. [Here](https://github.com/OpenSenseAction/OS_data_format_conventions/blob/main/notebooks/PWS_example_dataset.ipynb) you can find an example of how to construct an xarray data set. "
   ]
  },
  {
   "cell_type": "code",
   "execution_count": 9,
   "id": "b136d2d8-4723-4d7e-8cb6-15f960b61e7a",
   "metadata": {},
   "outputs": [],
   "source": [
    "bias_corr = True  # default False\n",
    "beta = 0.2\n",
    "dbc = 1"
   ]
  },
  {
   "cell_type": "markdown",
   "id": "6dd02e85-676d-4e55-b81d-4e38bb0948b6",
   "metadata": {},
   "source": [
    "#### Run SO filter"
   ]
  },
  {
   "cell_type": "code",
   "execution_count": null,
   "id": "60eae3b2",
   "metadata": {},
   "outputs": [],
   "source": [
    "# Loading the data into memory can speed up the so_filter a lot\n",
    "ds_pws = ds_pws.load()"
   ]
  },
  {
   "cell_type": "code",
   "execution_count": 11,
   "id": "8beadc88-95c8-4901-8fe2-9e64aa513425",
   "metadata": {},
   "outputs": [
    {
     "name": "stdout",
     "output_type": "stream",
     "text": [
      "CPU times: user 11.5 s, sys: 3.89 s, total: 15.4 s\n",
      "Wall time: 15.4 s\n"
     ]
    }
   ],
   "source": [
    "%%time\n",
    "\n",
    "ds_pws_flagged = pypwsqc.flagging.so_filter(\n",
    "    ds_pws,\n",
    "    evaluation_period,\n",
    "    mmatch,\n",
    "    gamma,\n",
    "    n_stat,\n",
    "    distance_matrix,\n",
    "    max_distance,\n",
    "    bias_corr=True,\n",
    "    beta=beta,\n",
    "    dbc=dbc,\n",
    ")"
   ]
  },
  {
   "cell_type": "markdown",
   "id": "dc8b8cac-e9e1-4d61-99d5-2f2d3f2dbc29",
   "metadata": {},
   "source": [
    "### Save flagged dataset"
   ]
  },
  {
   "cell_type": "code",
   "execution_count": 12,
   "id": "41f502d1-6d87-43c1-a0c9-76f4c737147f",
   "metadata": {},
   "outputs": [],
   "source": [
    "ds_pws_flagged.to_netcdf(\"so_flagged_dataset.nc\")"
   ]
  }
 ],
 "metadata": {
  "kernelspec": {
   "display_name": "pypwsqc-py3.12 (3.12.10)",
   "language": "python",
   "name": "python3"
  },
  "language_info": {
   "codemirror_mode": {
    "name": "ipython",
    "version": 3
   },
   "file_extension": ".py",
   "mimetype": "text/x-python",
   "name": "python",
   "nbconvert_exporter": "python",
   "pygments_lexer": "ipython3",
   "version": "3.12.10"
  }
 },
 "nbformat": 4,
 "nbformat_minor": 5
}
